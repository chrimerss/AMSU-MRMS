{
 "cells": [
  {
   "cell_type": "code",
   "execution_count": 25,
   "metadata": {},
   "outputs": [],
   "source": [
    "import pandas as pd\n",
    "from pandas_profiling import ProfileReport\n",
    "import numpy as np\n",
    "from yellowbrick.regressor import ResidualsPlot"
   ]
  },
  {
   "cell_type": "code",
   "execution_count": 6,
   "metadata": {},
   "outputs": [],
   "source": [
    "X= np.load('PrecipPointsX.npy')\n",
    "ycls= np.load('PrecipPointsTypeY.npy')\n",
    "yrr= np.load('PrecipPointsRateY.npy')"
   ]
  },
  {
   "cell_type": "code",
   "execution_count": 8,
   "metadata": {},
   "outputs": [],
   "source": [
    "#VC, VX, VM, surface, demPoint, lon, lat\n",
    "_dict= {\n",
    "    'AMSUa-1': X[:,0],\n",
    "    'AMSUa-2': X[:,1],\n",
    "    'AMSUa-15': X[:, 2],\n",
    "    'AMSUb-1': X[:,3],\n",
    "    'AMSUb-2': X[:, 4],\n",
    "    'AMSUb-3': X[:,5],\n",
    "    'AMSUb-4': X[:, 6],\n",
    "    'AMSUb-5': X[:,7],\n",
    "    'VI': X[:,8],\n",
    "    'VC': X[:,9],\n",
    "    'VX': X[:, 10],\n",
    "    'VM': X[:,11],\n",
    "    'surface': X[:,12],\n",
    "    'DEM': X[:,13],\n",
    "    'lon': X[:,14],\n",
    "    'lat': X[:,15],\n",
    "    'rainrate': yrr\n",
    "}"
   ]
  },
  {
   "cell_type": "code",
   "execution_count": 10,
   "metadata": {},
   "outputs": [],
   "source": [
    "df= pd.DataFrame(_dict)"
   ]
  },
  {
   "cell_type": "code",
   "execution_count": 11,
   "metadata": {},
   "outputs": [
    {
     "data": {
      "text/html": [
       "<div>\n",
       "<style scoped>\n",
       "    .dataframe tbody tr th:only-of-type {\n",
       "        vertical-align: middle;\n",
       "    }\n",
       "\n",
       "    .dataframe tbody tr th {\n",
       "        vertical-align: top;\n",
       "    }\n",
       "\n",
       "    .dataframe thead th {\n",
       "        text-align: right;\n",
       "    }\n",
       "</style>\n",
       "<table border=\"1\" class=\"dataframe\">\n",
       "  <thead>\n",
       "    <tr style=\"text-align: right;\">\n",
       "      <th></th>\n",
       "      <th>AMSUa-1</th>\n",
       "      <th>AMSUa-2</th>\n",
       "      <th>AMSUa-15</th>\n",
       "      <th>AMSUb-1</th>\n",
       "      <th>AMSUb-2</th>\n",
       "      <th>AMSUb-3</th>\n",
       "      <th>AMSUb-4</th>\n",
       "      <th>AMSUb-5</th>\n",
       "      <th>VI</th>\n",
       "      <th>VC</th>\n",
       "      <th>VX</th>\n",
       "      <th>VM</th>\n",
       "      <th>surface</th>\n",
       "      <th>DEM</th>\n",
       "      <th>lon</th>\n",
       "      <th>lat</th>\n",
       "      <th>rainrate</th>\n",
       "    </tr>\n",
       "  </thead>\n",
       "  <tbody>\n",
       "    <tr>\n",
       "      <td>0</td>\n",
       "      <td>22229.0</td>\n",
       "      <td>22195.0</td>\n",
       "      <td>22684.0</td>\n",
       "      <td>22010.0</td>\n",
       "      <td>22935.0</td>\n",
       "      <td>24196.0</td>\n",
       "      <td>24836.0</td>\n",
       "      <td>24680.0</td>\n",
       "      <td>80.625</td>\n",
       "      <td>297.00</td>\n",
       "      <td>683.0</td>\n",
       "      <td>-478.0</td>\n",
       "      <td>0.0</td>\n",
       "      <td>0.0</td>\n",
       "      <td>-67.6</td>\n",
       "      <td>49.3</td>\n",
       "      <td>0.174699</td>\n",
       "    </tr>\n",
       "    <tr>\n",
       "      <td>1</td>\n",
       "      <td>23081.0</td>\n",
       "      <td>22960.0</td>\n",
       "      <td>22897.0</td>\n",
       "      <td>23113.0</td>\n",
       "      <td>23066.0</td>\n",
       "      <td>24013.0</td>\n",
       "      <td>24916.0</td>\n",
       "      <td>24313.0</td>\n",
       "      <td>60.750</td>\n",
       "      <td>33.00</td>\n",
       "      <td>79.0</td>\n",
       "      <td>-128.0</td>\n",
       "      <td>5.0</td>\n",
       "      <td>448.0</td>\n",
       "      <td>-67.8</td>\n",
       "      <td>47.9</td>\n",
       "      <td>0.108333</td>\n",
       "    </tr>\n",
       "    <tr>\n",
       "      <td>2</td>\n",
       "      <td>17153.0</td>\n",
       "      <td>17062.0</td>\n",
       "      <td>21958.0</td>\n",
       "      <td>21236.0</td>\n",
       "      <td>23719.0</td>\n",
       "      <td>24015.0</td>\n",
       "      <td>25208.0</td>\n",
       "      <td>25763.0</td>\n",
       "      <td>470.125</td>\n",
       "      <td>44.50</td>\n",
       "      <td>609.0</td>\n",
       "      <td>-3629.0</td>\n",
       "      <td>0.0</td>\n",
       "      <td>0.0</td>\n",
       "      <td>-64.8</td>\n",
       "      <td>43.6</td>\n",
       "      <td>0.227532</td>\n",
       "    </tr>\n",
       "    <tr>\n",
       "      <td>3</td>\n",
       "      <td>17153.0</td>\n",
       "      <td>17062.0</td>\n",
       "      <td>21958.0</td>\n",
       "      <td>23639.0</td>\n",
       "      <td>24993.0</td>\n",
       "      <td>24107.0</td>\n",
       "      <td>25189.0</td>\n",
       "      <td>25892.0</td>\n",
       "      <td>400.875</td>\n",
       "      <td>-236.25</td>\n",
       "      <td>0.0</td>\n",
       "      <td>-1396.0</td>\n",
       "      <td>0.0</td>\n",
       "      <td>0.0</td>\n",
       "      <td>-65.2</td>\n",
       "      <td>43.7</td>\n",
       "      <td>0.186869</td>\n",
       "    </tr>\n",
       "    <tr>\n",
       "      <td>4</td>\n",
       "      <td>17151.0</td>\n",
       "      <td>16967.0</td>\n",
       "      <td>22201.0</td>\n",
       "      <td>20814.0</td>\n",
       "      <td>23587.0</td>\n",
       "      <td>24169.0</td>\n",
       "      <td>25335.0</td>\n",
       "      <td>25847.0</td>\n",
       "      <td>470.125</td>\n",
       "      <td>43.00</td>\n",
       "      <td>514.0</td>\n",
       "      <td>-422.0</td>\n",
       "      <td>NaN</td>\n",
       "      <td>0.0</td>\n",
       "      <td>-64.4</td>\n",
       "      <td>43.4</td>\n",
       "      <td>0.104940</td>\n",
       "    </tr>\n",
       "  </tbody>\n",
       "</table>\n",
       "</div>"
      ],
      "text/plain": [
       "   AMSUa-1  AMSUa-2  AMSUa-15  AMSUb-1  AMSUb-2  AMSUb-3  AMSUb-4  AMSUb-5  \\\n",
       "0  22229.0  22195.0   22684.0  22010.0  22935.0  24196.0  24836.0  24680.0   \n",
       "1  23081.0  22960.0   22897.0  23113.0  23066.0  24013.0  24916.0  24313.0   \n",
       "2  17153.0  17062.0   21958.0  21236.0  23719.0  24015.0  25208.0  25763.0   \n",
       "3  17153.0  17062.0   21958.0  23639.0  24993.0  24107.0  25189.0  25892.0   \n",
       "4  17151.0  16967.0   22201.0  20814.0  23587.0  24169.0  25335.0  25847.0   \n",
       "\n",
       "        VI      VC     VX      VM  surface    DEM   lon   lat  rainrate  \n",
       "0   80.625  297.00  683.0  -478.0      0.0    0.0 -67.6  49.3  0.174699  \n",
       "1   60.750   33.00   79.0  -128.0      5.0  448.0 -67.8  47.9  0.108333  \n",
       "2  470.125   44.50  609.0 -3629.0      0.0    0.0 -64.8  43.6  0.227532  \n",
       "3  400.875 -236.25    0.0 -1396.0      0.0    0.0 -65.2  43.7  0.186869  \n",
       "4  470.125   43.00  514.0  -422.0      NaN    0.0 -64.4  43.4  0.104940  "
      ]
     },
     "execution_count": 11,
     "metadata": {},
     "output_type": "execute_result"
    }
   ],
   "source": [
    "df.head()"
   ]
  },
  {
   "cell_type": "code",
   "execution_count": 12,
   "metadata": {},
   "outputs": [],
   "source": [
    "df.replace(-9999, np.nan, inplace=True)"
   ]
  },
  {
   "cell_type": "code",
   "execution_count": 13,
   "metadata": {},
   "outputs": [
    {
     "name": "stderr",
     "output_type": "stream",
     "text": [
      "/home/ZhiLi/env/lib/python3.6/site-packages/ipykernel_launcher.py:1: SettingWithCopyWarning: \n",
      "A value is trying to be set on a copy of a slice from a DataFrame.\n",
      "Try using .loc[row_indexer,col_indexer] = value instead\n",
      "\n",
      "See the caveats in the documentation: http://pandas.pydata.org/pandas-docs/stable/user_guide/indexing.html#returning-a-view-versus-a-copy\n",
      "  \"\"\"Entry point for launching an IPython kernel.\n",
      "/home/ZhiLi/env/lib/python3.6/site-packages/pandas/core/frame.py:3515: SettingWithCopyWarning: \n",
      "A value is trying to be set on a copy of a slice from a DataFrame\n",
      "\n",
      "See the caveats in the documentation: http://pandas.pydata.org/pandas-docs/stable/user_guide/indexing.html#returning-a-view-versus-a-copy\n",
      "  self._where(-key, value, inplace=True)\n"
     ]
    }
   ],
   "source": [
    "df.iloc[:,:8][df.iloc[:,:8]<0]= np.nan"
   ]
  },
  {
   "cell_type": "code",
   "execution_count": 20,
   "metadata": {},
   "outputs": [],
   "source": [
    "df.iloc[:,:8][df.iloc[:,:8]>1e10]= np.nan"
   ]
  },
  {
   "cell_type": "code",
   "execution_count": 21,
   "metadata": {},
   "outputs": [],
   "source": [
    "df.dropna(inplace= True)"
   ]
  },
  {
   "cell_type": "code",
   "execution_count": 17,
   "metadata": {},
   "outputs": [
    {
     "data": {
      "text/plain": [
       "1084484"
      ]
     },
     "execution_count": 17,
     "metadata": {},
     "output_type": "execute_result"
    }
   ],
   "source": [
    "len(df)"
   ]
  },
  {
   "cell_type": "code",
   "execution_count": 23,
   "metadata": {},
   "outputs": [],
   "source": [
    "profile= ProfileReport(df, title='AMSU', html={\n",
    "                                            'style': \n",
    "                                                {'full_width': True}\n",
    "                                                     }\n",
    "                       )"
   ]
  },
  {
   "cell_type": "code",
   "execution_count": 24,
   "metadata": {},
   "outputs": [
    {
     "data": {
      "application/vnd.jupyter.widget-view+json": {
       "model_id": "39a993a7582b48049d3f215e74de813d",
       "version_major": 2,
       "version_minor": 0
      },
      "text/plain": [
       "Tab(children=(HTML(value='<div id=\"overview-content\" class=\"row variable spacing\">\\n    <div class=\"row\">\\n   …"
      ]
     },
     "metadata": {},
     "output_type": "display_data"
    },
    {
     "data": {
      "text/html": [
       "Report generated with <a href=\"https://github.com/pandas-profiling/pandas-profiling\">pandas-profiling</a>."
      ],
      "text/plain": [
       "<IPython.core.display.HTML object>"
      ]
     },
     "metadata": {},
     "output_type": "display_data"
    },
    {
     "data": {
      "text/plain": []
     },
     "execution_count": 24,
     "metadata": {},
     "output_type": "execute_result"
    }
   ],
   "source": [
    "profile"
   ]
  }
 ],
 "metadata": {
  "kernelspec": {
   "display_name": "Python 3",
   "language": "python",
   "name": "python3"
  },
  "language_info": {
   "codemirror_mode": {
    "name": "ipython",
    "version": 3
   },
   "file_extension": ".py",
   "mimetype": "text/x-python",
   "name": "python",
   "nbconvert_exporter": "python",
   "pygments_lexer": "ipython3",
   "version": "3.6.8"
  }
 },
 "nbformat": 4,
 "nbformat_minor": 2
}
